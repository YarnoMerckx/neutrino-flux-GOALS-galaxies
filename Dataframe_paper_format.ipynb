{
 "cells": [
  {
   "cell_type": "code",
   "execution_count": 1,
   "id": "5ed8aebc",
   "metadata": {},
   "outputs": [],
   "source": [
    "import numpy as np\n",
    "import matplotlib.pyplot as plt\n",
    "import astropy.cosmology as Cosmology\n",
    "from astropy import units as u \n",
    "from astropy import constants as const\n",
    "from ipynb.fs.full.Analytic_neutrino_flux import *\n",
    "import math\n",
    "from IPython.display import display\n",
    "import pandas as pd\n",
    "import time\n",
    "from astropy.coordinates import SkyCoord"
   ]
  },
  {
   "cell_type": "markdown",
   "id": "318ad3c8",
   "metadata": {},
   "source": [
    "\n",
    "### Used GOALS data"
   ]
  },
  {
   "cell_type": "markdown",
   "id": "15a2900b",
   "metadata": {},
   "source": [
    "## Herschel IR luminosity data"
   ]
  },
  {
   "cell_type": "code",
   "execution_count": 2,
   "id": "0d0d8d71",
   "metadata": {
    "scrolled": false
   },
   "outputs": [],
   "source": [
    "Herschel = np.loadtxt(\"/Users/yarno/documents/PhD/GOALS/SplitLIR/goals_herschel_sample_list.txt\")"
   ]
  },
  {
   "cell_type": "markdown",
   "id": "695cafb5",
   "metadata": {},
   "source": [
    "Split LIR values: https://goals.ipac.caltech.edu/data_files/Lir_LirSurfaceDensity.dat -> IDs missing: 45, 46 , 78, 83, 110, 150, 157,  159 ,187, and 189 + 92 & 238 NaN values. This results in LIR values for 229 galaxies. Note the GOALS sample consists of 202 objects. See also the paper related to the analysis: https://ui.adsabs.harvard.edu/abs/2017ApJ...846...32D/abstract\n",
    " \n",
    "Names corresponding to the iDS in the above file: https://goals.ipac.caltech.edu/data_files/goals_herschel_pacs_CII158_linecatalog_HIPEv13.dat\n",
    "\n",
    "The redshift and luminosity distance values can be found in \"/Users/yarno/documents/PhD/GOALS/goals_herschel_sample_list.txt\""
   ]
  },
  {
   "cell_type": "code",
   "execution_count": 3,
   "id": "950c0c29",
   "metadata": {},
   "outputs": [],
   "source": [
    "LIR_split_array = np.loadtxt(\"/Users/yarno/documents/PhD/GOALS/SplitLIR/lir_split.txt\", skiprows=0)\n",
    "LIR_split = [i[1] for i in LIR_split_array]\n",
    "LIR_split_unc = [i[2] for i in LIR_split_array]\n",
    "ID = [int(i[0]) for i in LIR_split_array]\n",
    "\n",
    "LIR_irg = [i[1] for i in LIR_split_array if i[1] < 1]\n",
    "LIR_lirg = [i[1] for i in LIR_split_array if i[1] >= 1 and i[1] < 10]\n",
    "LIR_ulirg = [i[1] for i in LIR_split_array if i[1] >= 10]\n",
    "\n",
    "SigmaIR = [i[3] for i in LIR_split_array ]\n",
    "SigmaIR_noNaN = []\n",
    "for i in SigmaIR:\n",
    "    if math.isnan(i) == False:\n",
    "        SigmaIR_noNaN += [i]\n",
    "    else: \n",
    "        SigmaIR_noNaN += [0]\n",
    "\n"
   ]
  },
  {
   "cell_type": "markdown",
   "id": "6ca9e7f1",
   "metadata": {},
   "source": [
    "## Individual  $\\langle \\alpha_{\\mathrm{AGN}} \\rangle$ distribution"
   ]
  },
  {
   "cell_type": "code",
   "execution_count": 4,
   "id": "a8a9860c",
   "metadata": {},
   "outputs": [
    {
     "data": {
      "text/plain": [
       "<Figure size 720x648 with 0 Axes>"
      ]
     },
     "metadata": {},
     "output_type": "display_data"
    }
   ],
   "source": [
    "fig3 = plt.figure(figsize=(10,9))\n",
    "\n",
    "AGN_split_array = np.loadtxt(\"/Users/yarno/documents/PhD/GOALS/SplitLIR/agn_split.txt\", skiprows=0)\n",
    "agn_fracs_unc = [i[1] for i in AGN_split_array]\n",
    "agn_fracs = [i[0] for i in AGN_split_array]\n",
    "median_ang_frac = np.median(agn_fracs)\n",
    "\n",
    "\n",
    "agn_fracs = np.array(agn_fracs)\n"
   ]
  },
  {
   "cell_type": "markdown",
   "id": "32abe070",
   "metadata": {},
   "source": [
    "The AGN values can be found in Table 2 of this article: https://iopscience.iop.org/article/10.3847/1538-4357/aa81d7#apjaa81d7t1 . It is noted that the IDS 45, 46 , 78, 83, 110, 150, 157,  159 ,187 and 189 are already missing and therefore 92 & 238 had to be removed.\n",
    "\n",
    "\n",
    "Note, that the mid-infrared and bolometric AGN fractions are both derived from the Spitzer low-res spectra, and are therefore representative of the projected physical area covered by the IRS short-low slit, centered on the nucleus. For more distant or point-like GOALS sources (D > ~ 50-100 Mpc), the AGN fractions will be representative of the values for the entire galaxy.  However, for more nearby sources, the true global mid-infrared and bolometric AGN fractions can be significantly smaller than those reported here. For example, the source with an average AGN fraction of one is NGC 1068, the most nearby (~16 Mpc) Seyfert II galaxy. The true global bolometric AGN fraction will therefore, most likely, be lower."
   ]
  },
  {
   "cell_type": "markdown",
   "id": "d4b5780b",
   "metadata": {},
   "source": [
    "# Constructing a general dataframe"
   ]
  },
  {
   "cell_type": "code",
   "execution_count": 5,
   "id": "b5bfdd77",
   "metadata": {},
   "outputs": [],
   "source": [
    "def SNr(LIR): # SN-LIR empirical callibration S. Matilla\n",
    "    return 2.7e-12*LIR\n",
    "\n",
    "def SFR(LIR,calib):\n",
    "    if calib == \"Murphy\":\n",
    "        return 3.15e-44*LIR*1e7*3.828e26\n",
    "    if calib == \"Yarno NK\":\n",
    "        return 4.934702e-44*LIR*1e7*3.828e26 \n",
    "    if calib == \"Yarno TH\":\n",
    "        return 1.537522e-44*LIR*1e7*3.828e26\n",
    "\n",
    "def SNr_IMF(LIR,calib):\n",
    "    if calib == \"Murphy\":\n",
    "        return (1/86.3)*3.88e-44*LIR*1e7*3.828e26\n",
    "    elif calib == \"Yarno NK\":\n",
    "        return 5.428172e-46*LIR*1e7*3.828e26 \n",
    "    elif calib == \"Yarno TH\":\n",
    "        return 4.151310e-46*LIR*1e7*3.828e26\n"
   ]
  },
  {
   "cell_type": "markdown",
   "id": "8d438c88",
   "metadata": {},
   "source": [
    "The callibration for the SFR is based on 33GHz continuum data for 56 nuclei and 62 extranuclear regions for star-forming galaxies covering a wide range of integrated properties, ISM conditions, morphological types, IR luminosity range, and and star-formation rates. The Median value for the ratio between the 33GHz star-formation rate and the IR luminosity are consistent for nuclear and extra-nuclear regions. This empirically determined coefficient is consistent with a theoretical relation given in Murpy et al (2011, SFR = 3.88e-44L$_{IR}$,https://ui.adsabs.harvard.edu/abs/2011ApJ...737...67M/abstract and https://ui.adsabs.harvard.edu/abs/2012ApJ...761...97M/abstract)."
   ]
  },
  {
   "cell_type": "code",
   "execution_count": null,
   "id": "725bb165",
   "metadata": {
    "scrolled": true
   },
   "outputs": [],
   "source": [
    "a_file = open(\"/Users/yarno/documents/PhD/GOALS/SplitLIR/IDS.txt\", \"r\")\n",
    "\n",
    "list_of_lists = [] \n",
    "for line in a_file:\n",
    "    stripped_line = line.strip()\n",
    "    line_list = stripped_line.split()\n",
    "    list_of_lists.append(line_list)\n",
    "missing = [45, 46 , 78, 83,92, 110, 150, 157,  159 ,187, 189,238]\n",
    "\n",
    "l = [[int(i[0]),i[1],i[6],i[7]] for i in list_of_lists if int(i[0]) not in missing]\n",
    "l2 = [[i[3],i[4]] for i in Herschel if int(i[0]) not in missing]\n",
    "\n",
    "dec_l_rad = np.array([i[2] for i in Herschel if int(i[0]) not in missing ])*0.0174532925\n",
    "\n",
    "chars = [\n",
    "    \n",
    "          [\n",
    "        \n",
    "          ID[i],\n",
    "          \n",
    "          round(np.log10(LIR_split[i]*1e11),2), \n",
    "          \n",
    "          round(LIR_split_unc[i],2), \n",
    "          \n",
    "          agn_fracs[i], \n",
    "          \n",
    "          agn_fracs_unc[i], \n",
    "          \n",
    "          round(SFR((1-agn_fracs[i])*LIR_split[i]*1e11,\"Yarno NK\"),2),\n",
    "                    \n",
    "          round(SFR(LIR_split[i]*1e11,\"Yarno NK\"),2) ,\n",
    "              \n",
    "          SigmaIR[i]\n",
    "          \n",
    "         ]\n",
    "         \n",
    "          for i in range(len(ID)) if ID[i] != 92 and ID[i] != 238 \n",
    "         ]\n",
    "\n",
    "    \n",
    "for i in range(len(chars)): \n",
    "    chars[i].insert(1,l[i][1])\n",
    "    chars[i].insert(2,l[i][2])\n",
    "    chars[i].insert(3,l[i][3])\n",
    "    chars[i].insert(4,l2[i][0])\n",
    "    chars[i].insert(5,l2[i][1])\n"
   ]
  },
  {
   "cell_type": "code",
   "execution_count": null,
   "id": "202a5f5e",
   "metadata": {
    "scrolled": false
   },
   "outputs": [],
   "source": [
    "E = 1e3\n",
    "nism = 1000 \n",
    "R = 150\n",
    "v= 500\n",
    "pmax = 1e8\n",
    "H = 150\n",
    "df = pd.DataFrame({ 'Name' : [i[1] for i in l],\n",
    "        \n",
    "        'RA' : [round(SkyCoord(i[2],i[3]).ra.deg,2)  for i in l],\n",
    "        \n",
    "        'Dec' : [round(SkyCoord(i[2],i[3]).dec.deg,2)  for i in l],\n",
    "                   \n",
    "        'Redshift': [i[4] for i in chars],\n",
    "        \n",
    "        'D_L [Mpc]' : [ i[5] for i in chars],\n",
    "        \n",
    "        'log(LIR)' : [i[6] for i in chars],\n",
    "        \n",
    "        'LIR_unc x 1e11' : [i[7] for i in chars],\n",
    "        \n",
    "        'AGNbol' : [i[8] for i in chars],\n",
    "        \n",
    "        'AGNbol_unc' : [i[9] for i in chars],\n",
    "        \n",
    "        'SFR [M$_{\\odot}$]' : [i[10] for i in chars ],\n",
    "                           \n",
    "        'un-corr SFR [M$_{\\odot}$]':[i[11] for i in chars ] ,\n",
    "                   \n",
    "        'Supernova rate [yr$^{-1}$] ' : [round(SNr_IMF((1-i[8])*pow(10,i[6]), \"Yarno NK\"),2) for i in chars],\n",
    "                   \n",
    "        'un-corr Supernova rate [yr$^{-1}$] ' : [round(SNr_IMF(pow(10,i[6]), \"Yarno NK\"),2) for i in chars],\n",
    "        \n",
    "        'Flux(TeV) [TeV$^{-1}$ cm$^{-2}$ s$^{-1}$]': [round(Flux(1e3,R,v,nism,H,4,pmax,SNr_IMF((1-i[8])*pow(10,i[6]), \"Yarno NK\"),i[5]),13)*1e-3*1e12 for i in chars],\n",
    "                                                                 \n",
    "        'Flux(TeV) no AGN [GeV cm$^{-2}$ s$^{-1}$]': [round(Flux(1e3,R,v,nism,H,4,pmax,SNr_IMF(pow(10,i[6]), \"Yarno NK\"),i[5]),13)*1e-3*1e12 for i in chars],                   \n",
    "        \n",
    "                    \n",
    "       }, index = [i[0] for i in chars])\n",
    "\n",
    "pd.set_option('display.max_rows', 500)\n",
    "\n",
    "display(df)\n"
   ]
  },
  {
   "cell_type": "code",
   "execution_count": null,
   "id": "e34ec22b",
   "metadata": {
    "scrolled": false
   },
   "outputs": [],
   "source": [
    "print(df[[\"Name\",\"RA\",\"Dec\", \"D_L [Mpc]\", \"log(LIR)\", \"AGNbol\",'Supernova rate [yr$^{-1}$] ','Flux(TeV) [TeV$^{-1}$ cm$^{-2}$ s$^{-1}$]']].to_latex(caption = \"Table\",index = False))"
   ]
  },
  {
   "cell_type": "code",
   "execution_count": null,
   "id": "228ffe6c",
   "metadata": {},
   "outputs": [],
   "source": []
  }
 ],
 "metadata": {
  "kernelspec": {
   "display_name": "Python 3",
   "language": "python",
   "name": "python3"
  },
  "language_info": {
   "codemirror_mode": {
    "name": "ipython",
    "version": 3
   },
   "file_extension": ".py",
   "mimetype": "text/x-python",
   "name": "python",
   "nbconvert_exporter": "python",
   "pygments_lexer": "ipython3",
   "version": "3.8.8"
  }
 },
 "nbformat": 4,
 "nbformat_minor": 5
}
