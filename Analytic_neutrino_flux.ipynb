{
 "cells": [
  {
   "cell_type": "code",
   "execution_count": 1,
   "id": "243d8680",
   "metadata": {},
   "outputs": [],
   "source": [
    "import matplotlib.pyplot as plt\n",
    "import numpy as np \n",
    "from astropy import units as u \n",
    "from astropy import constants as const\n",
    "from scipy.integrate import quad"
   ]
  },
  {
   "cell_type": "code",
   "execution_count": 2,
   "id": "85f6c241",
   "metadata": {},
   "outputs": [],
   "source": [
    "def cross_section(E):\n",
    "    L = np.log(E/1e3)\n",
    "    E_th = 1.22\n",
    "    return (34.3+1.88*L+0.25*pow(L,2))*pow((1-pow((E_th/E),4)),2)"
   ]
  },
  {
   "cell_type": "code",
   "execution_count": 3,
   "id": "48ead231",
   "metadata": {},
   "outputs": [],
   "source": [
    "def E_CR(RSN): #RSN in yr^-1\n",
    "    E_SN_erg = 1e51*u.erg #characteristic energy output\n",
    "    E_SN_GeV = (E_SN_erg.to(u.eV)).value*1e-9 # GeV\n",
    "    xi = 0.10 # efficiency ~10%\n",
    "    R_sn_yr = RSN*pow(u.yr,-1) #SN rate in yrs\n",
    "    R_sn_s = (R_sn_yr.to(pow(u.second,-1))).value\n",
    "    return R_sn_s*E_SN_GeV*xi #SN rate in GeV/seconds"
   ]
  },
  {
   "cell_type": "code",
   "execution_count": 4,
   "id": "95f4fb3f",
   "metadata": {},
   "outputs": [],
   "source": [
    "def I(p,alpha,p_max):\n",
    "    mp = 0.938\n",
    "    return (4*np.pi)*pow(p,2)*pow(p/mp,-alpha)*(np.sqrt(pow(p,2)+pow(0.938,2))-0.938)*np.exp(-p/p_max)\n",
    "\n"
   ]
  },
  {
   "cell_type": "markdown",
   "id": "6f9c588c",
   "metadata": {},
   "source": [
    "$\\begin{align}\n",
    "    N_{\\mathrm{C,SN}} &= \\frac{\\xi_{\\mathrm{CR}} \\mathcal{R}_{\\mathrm{SN}} E_{\\mathrm{SN}}}{\\int_0^{\\infty} 4\\pi p^2 \\left(\\frac{p}{m_p c}\\right)^{-\\alpha_{\\mathrm{SN }}} e^{\\frac{-p}{p_{\\mathrm{max,SN}}}} \\cdot \\left( \\sqrt{p^2c^2+m^2c^4}-mc^2 \\right) dp}\\\\\n",
    "    & = \\frac{\\mathcal{L}_{\\mathrm{CR}}}{\\mathcal{I}}\n",
    "    \\label{NCSN}\n",
    "\\end{align}$\n"
   ]
  },
  {
   "cell_type": "code",
   "execution_count": 5,
   "id": "0ff00735",
   "metadata": {},
   "outputs": [],
   "source": [
    "def Qp(p,R,h,plow,pup,alpha,pmax,RSN):\n",
    "    mp = 0.938\n",
    "    R_pc = R*u.parsec  #pc to cm conversion\n",
    "    R_cm = (R_pc.to(u.cm)).value\n",
    "    h_pc = h*u.pc\n",
    "    h_cm = (h_pc.to(u.cm)).value\n",
    "    if h == 0: \n",
    "        V_spherical = (4/3)*np.pi*pow(R_cm,3)\n",
    "        V_SBN = V_spherical\n",
    "    else:\n",
    "        V_disk = 2*h_cm*np.pi*pow(R_cm,2)\n",
    "        V_SBN = V_disk\n",
    "    mom = np.logspace(np.log10(plow),np.log10(pup),100000)\n",
    "    Int = np.trapz(I(mom,alpha,pmax),mom)\n",
    "    N = E_CR(RSN)/Int\n",
    "    return (N/V_SBN)*pow(p/mp,-alpha)*np.exp(-p/pmax)\n"
   ]
  },
  {
   "cell_type": "code",
   "execution_count": 6,
   "id": "325597f6",
   "metadata": {},
   "outputs": [],
   "source": [
    "def loss_time(p,nism): \n",
    "    E = np.sqrt(pow(p,2)+pow(0.938,2))\n",
    "    eta = 0.5\n",
    "    n_cm = nism*pow(u.cm,-3)\n",
    "    n_m = (n_cm.to(pow(u.m,-3))).value\n",
    "    sigma = cross_section(E)*1e-31 #1e-31 converts mb -> m2\n",
    "    return 1/(eta*n_m*sigma*const.c.value)\n",
    "\n"
   ]
  },
  {
   "cell_type": "code",
   "execution_count": 7,
   "id": "3d8e3dc4",
   "metadata": {},
   "outputs": [],
   "source": [
    "def tau_wind(R,v,h):\n",
    "    if h==0:\n",
    "        R_pc = R*u.parsec \n",
    "        R_SBN = (R_pc.to(u.m)).value\n",
    "        v_wind = v*1000 \n",
    "        return (R_SBN/v_wind) \n",
    "    else:\n",
    "        h_pc = h*u.parsec\n",
    "        h_m = (h_pc.to(u.m)).value\n",
    "        v_wind = v*1000 \n",
    "        return (h_m/v_wind) \n",
    "            \n",
    "\n"
   ]
  },
  {
   "cell_type": "code",
   "execution_count": 8,
   "id": "602e619a",
   "metadata": {},
   "outputs": [],
   "source": [
    "def larmor(p,B): #Larmor radius in m \n",
    "    E = np.sqrt(pow(p,2)+pow(0.938,2))\n",
    "    B_G = (B*u.G)*1e-6 #Gauss\n",
    "    B_T = (B_G.to(u.T)).value #Tesla\n",
    "    return 3.3 *((E*1)/(1*B_T))\n",
    "\n",
    "def W_0_trapz(k_0,d): #integration via Trapezium method\n",
    "    integral = lambda k,d: pow(k,-d)\n",
    "    logaxis = np.logspace(np.log10(1),np.log10(1e10),100000)\n",
    "    I = np.trapz(integral(logaxis,d),logaxis)\n",
    "    return pow(pow(k_0,d)*I,-1)\n",
    "\n",
    "\n",
    "def F(k,k_0,d):\n",
    "    return k*W_0_trapz(k_0,d)*pow(k/k_0,-d)\n",
    "\n",
    "def D(E,k_0,B,d):\n",
    "    c = (const.c).value # lightspeed in m/s\n",
    "    \n",
    "    k_m = 1/(larmor(E,B)*u.m) # in m^-1\n",
    "    \n",
    "    k_pc = (k_m.to(pow(u.parsec,-1))).value # in pc^-1\n",
    "    \n",
    "    D_m2_s = ((larmor(E,B)*c)/(3*F(k_pc,k_0,d)))*(pow(u.m,2)/u.s) #in m^2/s\n",
    "    \n",
    "    D_pc2_s = (D_m2_s.to(pow(u.pc,2)/u.s)).value\n",
    "    \n",
    "    return D_pc2_s # in pc^2/s\n",
    "\n",
    "def tau_diff_quasi(p,R):\n",
    "    #! B = 250 muG hardcoded\n",
    "    return pow(R,2)/D(p,1,250,5/3) # untit: seconds\n",
    "\n"
   ]
  },
  {
   "cell_type": "code",
   "execution_count": 9,
   "id": "a4c7ec43",
   "metadata": {},
   "outputs": [],
   "source": [
    "def tau_lifetime(R,vwind,p , nism,h):\n",
    "    return pow(pow(tau_wind(R,vwind,h),-1)+pow(loss_time(p,nism),-1) +pow(tau_diff_quasi(p,R),-1),-1)\n"
   ]
  },
  {
   "cell_type": "code",
   "execution_count": 10,
   "id": "ff010489",
   "metadata": {},
   "outputs": [],
   "source": [
    "def f_p(p,R,v,nism,h,plow,pup,alpha,pmax,RSN):\n",
    "    return tau_lifetime(R,v,p, nism,h)*Qp(p,R,h,plow,pup,alpha,pmax,RSN)"
   ]
  },
  {
   "cell_type": "code",
   "execution_count": 11,
   "id": "a2a109e2",
   "metadata": {},
   "outputs": [],
   "source": [
    "def Fmu1(x,Ep):\n",
    "    if x <= 0.427:\n",
    "        L= np.log(Ep/1e3)\n",
    "        y = x/0.427\n",
    "        B = 1.75+0.204*L+0.010*pow(L,2)\n",
    "        beta = pow(1.67+0.111*L+0.0038*pow(L,2),-1)\n",
    "        k = 1.07-0.086*L+0.002*pow(L,2)\n",
    "        first =  B*(np.log(y)/y)*pow((1-pow(y,beta))/(1+k*pow(y,beta)*(1-pow(y,beta))),4)\n",
    "        second = (1/np.log(y))-((4*beta*pow(y,beta))/(1-pow(y,beta)))-((4*k*beta*pow(y,beta)*(1-2*pow(y,beta)))/(1+k*pow(y,beta)*(1-pow(y,beta))))\n",
    "        return first*second\n",
    "    else:\n",
    "        return 0\n",
    "\n",
    "\n",
    "Fmu1_vec = np.vectorize(Fmu1)\n",
    "xx = np.arange(1e-4,0.999,1e-4)"
   ]
  },
  {
   "cell_type": "code",
   "execution_count": 12,
   "id": "3d306474",
   "metadata": {},
   "outputs": [],
   "source": [
    "def Fe(x,Ep):\n",
    "    L = np.log(Ep/1e3)\n",
    "    Be = pow(69.5+2.65*L+0.3*pow(L,2),-1)\n",
    "    betae= pow(0.201+0.062*L+0.00042*pow(L,2),-1/4)\n",
    "    ke = (0.279+0.141*L+0.0172*pow(L,2))/(0.3+pow(2.3+L,2))\n",
    "    first = (pow(1+ke*pow(np.log(x),2),3))/(x*(1+0.3/pow(x,betae)))\n",
    "    second = pow(-np.log(x),5)\n",
    "    return Be*first*second\n",
    "\n",
    "Fe = np.vectorize(Fe)"
   ]
  },
  {
   "cell_type": "code",
   "execution_count": 13,
   "id": "dd15146f",
   "metadata": {},
   "outputs": [],
   "source": [
    "def Ftot(x,Ep): \n",
    "    return 2*Fe(x,Ep)+Fmu1(x,Ep)\n",
    "Ftot = np.vectorize(Ftot)"
   ]
  },
  {
   "cell_type": "code",
   "execution_count": 14,
   "id": "660661fb",
   "metadata": {},
   "outputs": [],
   "source": [
    "#fig=plt.figure(figsize=(10,8), dpi= 100, facecolor='w', edgecolor='k')\n",
    "#\n",
    "#plt.plot(xx,pow(xx,2)*Fe(xx,1000*1000),c = 'g',linestyle = '--',linewidth = 3, label = 'Fe')\n",
    "#xx = np.logspace(np.log10(0.00001),np.log10(1),10000)\n",
    "#plt.plot(xx,pow(xx,2)*Fmu1_vec(xx,1000*1000),c = 'r', linestyle = '-.', linewidth = 3,label = 'Fmu1')\n",
    "#plt.plot(xx,pow(xx,2)*(Fmu1_vec(xx,1000*1000)+Fe(xx,1000*1000)),c = 'k', linewidth = 3, label = 'sum')\n",
    "#\n",
    "#plt.xscale('log')\n",
    "#plt.yscale('log')\n",
    "#plt.xlabel('$x$',fontsize = 20)\n",
    "#plt.ylabel('$x^2F_i(x,E_p)$',fontsize = 20)\n",
    "#plt.xticks(fontsize = 22)\n",
    "#plt.yticks(fontsize = 22)\n",
    "#plt.grid()\n",
    "#plt.legend(fontsize = 16)"
   ]
  },
  {
   "cell_type": "code",
   "execution_count": 15,
   "id": "58f9910e",
   "metadata": {},
   "outputs": [],
   "source": [
    "def q(E_nu,R,v,nism,H,gammasn,pmax,RSN):\n",
    "    x = np.logspace(np.log10(0.0001),np.log10(1),1000)\n",
    "    c= 3e8*100 #cm/s\n",
    "    p = np.sqrt(pow(E_nu/x,2)-pow(0.938,2))\n",
    "    I = np.trapz(Ftot(x,E_nu/x)*cross_section(E_nu/x)*1e-27*(1/x)*4*np.pi*pow(p,2)*f_p(p,R,v,nism,H,0.1,1e9,gammasn,pmax,RSN),x)\n",
    "    return c*nism*I #GeV-1 cm-3 s-1\n",
    "\n",
    "\n",
    "\n",
    "q = np.vectorize(q)\n"
   ]
  },
  {
   "cell_type": "code",
   "execution_count": 16,
   "id": "16d161e3",
   "metadata": {},
   "outputs": [],
   "source": [
    "def Flux(E_nu,R,v,nism,H,gammasn,pmax,RSN,D_L):\n",
    "    DL_pc = (D_L*1e6)*u.parsec #pc\n",
    "    DL_cm = (DL_pc.to(u.cm)).value #cm\n",
    "    R_pc = R*u.pc #pc\n",
    "    R_cm = (R_pc.to(u.cm)).value#cm\n",
    "    H_pc = H*u.parsec#pc\n",
    "    H_cm = (H_pc.to(u.cm)).value#cm\n",
    "\n",
    "    if H == 0:\n",
    "        V = (4/3)*np.pi*pow(R_cm,3)\n",
    "        \n",
    "    if H != 0:\n",
    "        V = 2*H_cm*np.pi*pow(R_cm,2)\n",
    "    \n",
    "    scaled_flux = (1/3)*(V/(4*np.pi*pow(DL_cm,2)))*pow(E_nu,2)*q(E_nu,R,v,nism,H,gammasn,pmax,RSN)# factor 1/3 for oscillations\n",
    "    \n",
    "    return scaled_flux"
   ]
  }
 ],
 "metadata": {
  "kernelspec": {
   "display_name": "Python 3",
   "language": "python",
   "name": "python3"
  },
  "language_info": {
   "codemirror_mode": {
    "name": "ipython",
    "version": 3
   },
   "file_extension": ".py",
   "mimetype": "text/x-python",
   "name": "python",
   "nbconvert_exporter": "python",
   "pygments_lexer": "ipython3",
   "version": "3.8.8"
  }
 },
 "nbformat": 4,
 "nbformat_minor": 5
}
