{
 "cells": [
  {
   "cell_type": "code",
   "execution_count": 1,
   "id": "14d0d234",
   "metadata": {},
   "outputs": [],
   "source": [
    "import numpy as np\n",
    "import matplotlib.pyplot as plt\n",
    "from astropy import units as u \n",
    "from astropy import constants as const\n",
    "from scipy.interpolate import InterpolatedUnivariateSpline\n",
    "import scipy\n",
    "from scipy import integrate\n",
    "from scipy.integrate import quad\n"
   ]
  },
  {
   "cell_type": "code",
   "execution_count": 2,
   "id": "bba3d243",
   "metadata": {},
   "outputs": [],
   "source": [
    "def cross_section(E):\n",
    "    L = np.log(E/1e3)\n",
    "    E_th = 1.22\n",
    "    return (34.3+1.88*L+0.25*pow(L,2))*pow((1-pow((E_th/E),4)),2)"
   ]
  },
  {
   "cell_type": "code",
   "execution_count": 3,
   "id": "0a3dab56",
   "metadata": {},
   "outputs": [],
   "source": [
    "def E_CR(RSN): #RSN in yr^-1\n",
    "    E_SN_erg = 1e51*u.erg #characteristic energy output\n",
    "    E_SN_GeV = (E_SN_erg.to(u.eV)).value*1e-9 # GeV\n",
    "    xi = 0.10 # efficiency ~10%\n",
    "    R_sn_yr = RSN*pow(u.yr,-1) # SN rate in yrs\n",
    "    R_sn_s = (R_sn_yr.to(pow(u.second,-1))).value\n",
    "    return R_sn_s*E_SN_GeV*xi"
   ]
  },
  {
   "cell_type": "code",
   "execution_count": 4,
   "id": "3d318a86",
   "metadata": {},
   "outputs": [],
   "source": [
    "def I(p,alpha,p_max):\n",
    "    mp = 0.938\n",
    "    return (4*np.pi)*pow(p,2)*pow(p/mp,-alpha)*(np.sqrt(pow(p,2)+pow(0.938,2))-0.938)*np.exp(-p/p_max)\n",
    "\n"
   ]
  },
  {
   "cell_type": "code",
   "execution_count": 5,
   "id": "3514f6a7",
   "metadata": {},
   "outputs": [],
   "source": [
    "def Qp(p,R,h,plow,pup,alpha,pmax,RSN):\n",
    "    mp = 0.938\n",
    "    R_pc = R*u.parsec  #pc to cm conversion\n",
    "    R_cm = (R_pc.to(u.cm)).value\n",
    "    h_pc = h*u.pc\n",
    "    h_cm = (h_pc.to(u.cm)).value\n",
    "    if h == 0: \n",
    "        V_spherical = (4/3)*np.pi*pow(R_cm,3)\n",
    "        V_SBN = V_spherical\n",
    "    else:\n",
    "        V_disk = 2*h_cm*np.pi*pow(R_cm,2)\n",
    "        V_SBN = V_disk\n",
    "        \n",
    "    mom = np.logspace(np.log10(plow),np.log10(pup),100000)\n",
    "    Int = np.trapz(I(mom,alpha,pmax),mom)\n",
    "    N = E_CR(RSN)/Int\n",
    "    return (N/V_SBN)*pow(p/mp,-alpha)*np.exp(-p/pmax)\n"
   ]
  },
  {
   "cell_type": "code",
   "execution_count": 1,
   "id": "2d5aed4f",
   "metadata": {},
   "outputs": [],
   "source": [
    "def loss_time(E,nism): \n",
    "    eta = 0.5\n",
    "    n_cm = nism*pow(u.cm,-3)\n",
    "    n_m = (n_cm.to(pow(u.m,-3))).value\n",
    "    \n",
    "    sigma = cross_section(E)*1e-31\n",
    "    return 1/(eta*n_m*sigma*const.c.value)\n",
    "\n"
   ]
  },
  {
   "cell_type": "code",
   "execution_count": 7,
   "id": "b6e60944",
   "metadata": {},
   "outputs": [],
   "source": [
    "def tau_wind(R,v,h):\n",
    "    if h==0:\n",
    "        R_pc = R*u.parsec \n",
    "        R_SBN = (R_pc.to(u.m)).value\n",
    "        v_wind = v*1000 \n",
    "        return (R_SBN/v_wind) \n",
    "    else:\n",
    "        h_pc = h*u.parsec\n",
    "        h_m = (h_pc.to(u.m)).value\n",
    "        v_wind = v*1000 \n",
    "        return (h_m/v_wind) \n",
    "            \n",
    "\n"
   ]
  },
  {
   "cell_type": "code",
   "execution_count": 1,
   "id": "9db7016d",
   "metadata": {},
   "outputs": [],
   "source": [
    "def larmor(E,B): #Larmor radius in m \n",
    "    B_G = (B*u.G)*1e-6 #Gauss\n",
    "    B_T = (B_G.to(u.T)).value #Tesla\n",
    "    return 3.3 *((E*1)/(1*B_T))\n",
    "\n",
    "def W_0(k_0,d):\n",
    "    integral = lambda k,d: pow(k,-d)\n",
    "    I = quad(integral, k_0, np.inf, args = (d))[0] #returns list with integral and uncertainty\n",
    "    return pow(pow(k_0,d)*I,-1)\n",
    "\n",
    "def F(k,k_0,d):\n",
    "    return k*W_0(k_0,d)*pow(k/k_0,-d)\n",
    "\n",
    "def D(E,k_0,B,d):\n",
    "    c = (const.c).value # lightspeed in m/s\n",
    "    \n",
    "    k_m = 1/(larmor(E,B)*u.m) # in m^-1\n",
    "    \n",
    "    k_pc = (k_m.to(pow(u.parsec,-1))).value # in pc^-1\n",
    "    \n",
    "    D_m2_s = ((larmor(E,B)*c)/(3*F(k_pc,k_0,d)))*(pow(u.m,2)/u.s) #in m^2/s\n",
    "    \n",
    "    D_pc2_s = (D_m2_s.to(pow(u.pc,2)/u.s)).value\n",
    "    \n",
    "    return D_pc2_s # in pc^2/s\n",
    "\n",
    "def tau_diff_quasi(E,R):\n",
    "    return pow(R,2)/D(E,1,250,5/3)\n",
    "\n"
   ]
  },
  {
   "cell_type": "code",
   "execution_count": 9,
   "id": "5e36b1a1",
   "metadata": {},
   "outputs": [],
   "source": [
    "def tau_lifetime(R,vwind,E , nism,h):\n",
    "    return pow(pow(tau_wind(R,vwind,h),-1)+pow(loss_time(E,nism),-1) +pow(tau_diff_quasi(E,R),-1),-1)\n"
   ]
  },
  {
   "cell_type": "code",
   "execution_count": 10,
   "id": "d8855815",
   "metadata": {},
   "outputs": [],
   "source": [
    "def f_p(E,R,v,nism,h,plow,pup,alpha,pmax,RSN):\n",
    "    return tau_lifetime(R,v, E, nism,h)*Qp(E,R,h,plow,pup,alpha,pmax,RSN)"
   ]
  },
  {
   "cell_type": "code",
   "execution_count": 1,
   "id": "af0735cf",
   "metadata": {},
   "outputs": [],
   "source": [
    "def q_pi(E,nism, R,h,v,plow,pup,alpha,pmax,RSN):\n",
    "    n = nism*1e6 \n",
    "    c = 3e8    \n",
    "    K_pi = 0.17 # kinetic energy transfer parent proton to pion \n",
    "    m_p = 0.938 # GeV\n",
    "    E_proton = E/(K_pi)+0.938\n",
    "    return (c*n)*(1/K_pi)*(cross_section(E_proton)*1e-31)*4*np.pi*(pow(E_proton,2)-pow(0.938,2))*tau_lifetime(R,v, E_proton, nism,h)*Qp(E_proton,R,h,plow,pup,alpha,pmax,RSN)\n",
    "\n",
    "\n"
   ]
  },
  {
   "cell_type": "code",
   "execution_count": 12,
   "id": "1564799d",
   "metadata": {},
   "outputs": [],
   "source": [
    "def g_mu(x):\n",
    "    r = 0.573\n",
    "    return (9*pow(x,2)-6*np.log(x)-4*pow(x,3)-5)*(3-2*r)/(9*pow(1-r,2))\n",
    "\n",
    "def h_mu1(x):\n",
    "    r = 0.573\n",
    "    return (9*pow(r,2)-6*np.log(r)-4*pow(r,3)-5)*(3-2*r)/(9*pow(1-r,2))\n",
    "\n",
    "def h_mu2(x):\n",
    "    r = 0.573\n",
    "    return ((9*(r+x)-4*(pow(r,2)+r*x+pow(x,2)))*(1+2*r)*(r-x))/(9*pow(r,2))\n",
    "\n",
    "\n",
    "\n",
    "def ge(x):\n",
    "    r = 0.573\n",
    "    return 2*(((1-x)*(6*(1-x)**2+r*(5+5*x-4*x**2))+6*r*np.log(x)))/(3*(1-r)**2)\n",
    "\n",
    "\n",
    "def h_e1(x):\n",
    "    r = 0.573\n",
    "    return (2/(3*(pow((1-r),2))))*((1-r)*(6-7*r+11*pow(r,2)-4*pow(r,3))+6*r*np.log(r))\n",
    "\n",
    "def h_e2(x):\n",
    "    r = 0.573\n",
    "    return((2*(r-x))/(3*pow(r,2))) *(7*pow(r,2)-4*pow(r,3)+7*x*r-4*x*pow(r,2)-2*pow(x,2)-4*pow(x,2)*r)"
   ]
  },
  {
   "cell_type": "code",
   "execution_count": 13,
   "id": "86285560",
   "metadata": {},
   "outputs": [],
   "source": [
    "def f_mu1(x):\n",
    "    lambd = 1-0.573\n",
    "    if (lambd-x>=0):\n",
    "        return 1/lambd\n",
    "    else: \n",
    "        return 0\n",
    "\n",
    "def f_mu2(x):\n",
    "    r = 0.573\n",
    "    if (x-r>=0):\n",
    "        return g_mu(x)\n",
    "    if (r-x>=0):\n",
    "        return h_mu1(x)+h_mu2(x)\n",
    "        \n",
    "    else:\n",
    "        return 0\n",
    "\n",
    "def f_ve(x):\n",
    "    r =0.573\n",
    "    if (x - r >= 0):\n",
    "        return ge(x)\n",
    "    if (r-x > 0):\n",
    "        return h_e1(x)+h_e2(x)\n",
    "    else:\n",
    "        return 0"
   ]
  },
  {
   "cell_type": "code",
   "execution_count": 14,
   "id": "9a0d1591",
   "metadata": {},
   "outputs": [],
   "source": [
    "def q_nu(x,E_nu, nism, R,h,v,plow,pup,alpha,pmax,RSN):\n",
    "    return (2/3)*(f_mu1(x)+f_mu2(x)+f_ve(x))*q_pi(E_nu/x,nism, R,h,v,plow,pup,alpha,pmax,RSN)*(1/x)\n"
   ]
  },
  {
   "cell_type": "code",
   "execution_count": 15,
   "id": "cd09743e",
   "metadata": {},
   "outputs": [],
   "source": [
    "def bulk_flux(E,nism,R,h,v,plow,pup,alpha,pmax,RSN,D_L):\n",
    "    DL_pc = (D_L*1e6)*u.parsec \n",
    "    DL_cm = (DL_pc.to(u.cm)).value\n",
    "    R_pc = R*u.pc\n",
    "    R_cm = (R_pc.to(u.cm)).value\n",
    "    h_pc = h*u.parsec\n",
    "    h_cm = (h_pc.to(u.cm)).value\n",
    "\n",
    "    \n",
    "    I = quad(q_nu,0,1,args = (E,nism, R,h,v,plow,pup,alpha,pmax,RSN) )[0] #takes factor three already into account\n",
    "    fluxes = I\n",
    "    \n",
    "    if h!= 0: \n",
    "        V = 2*h_cm*np.pi*pow(R_cm , 2 )\n",
    "    else: \n",
    "        V = (4/3)*np.pi*pow(R_cm,3)\n",
    "    \n",
    "    scaled_flux = (V/(4*np.pi*pow(DL_cm,2)))*pow(E,2)*fluxes\n",
    "    \n",
    "    return [scaled_flux]"
   ]
  }
 ],
 "metadata": {
  "kernelspec": {
   "display_name": "Python 3",
   "language": "python",
   "name": "python3"
  },
  "language_info": {
   "codemirror_mode": {
    "name": "ipython",
    "version": 3
   },
   "file_extension": ".py",
   "mimetype": "text/x-python",
   "name": "python",
   "nbconvert_exporter": "python",
   "pygments_lexer": "ipython3",
   "version": "3.8.8"
  }
 },
 "nbformat": 4,
 "nbformat_minor": 5
}
