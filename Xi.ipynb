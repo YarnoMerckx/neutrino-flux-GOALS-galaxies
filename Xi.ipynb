{
 "cells": [
  {
   "cell_type": "code",
   "execution_count": 5,
   "id": "b3a81e46",
   "metadata": {},
   "outputs": [],
   "source": [
    "import scipy\n",
    "import numpy as np\n",
    "from astropy import cosmology\n",
    "from scipy.interpolate import UnivariateSpline\n",
    "\n",
    "\n",
    "def Hubble_evolution(z):\n",
    "    return np.sqrt(cosmology.Planck18.Om0*(1.+z)**3. + cosmology.Planck15.Ode0)\n",
    "\n",
    "\n",
    "def ULIRG_evolution(z):\n",
    "    if z <= 1.:\n",
    "        return (1.+z)**4.\n",
    "    else:\n",
    "        return 2.**4.\n",
    "    \n",
    "    \n",
    "\n",
    "def starforming_evolution(z):\n",
    "    if z <= 1.:\n",
    "        return (1.+z)**(3.4)\n",
    "    elif z > 1. and z <= 4.:\n",
    "        return starforming_evolution(1.) * (1.+z)**(-0.3)/(2.**(-0.3))\n",
    "    else:\n",
    "        return starforming_evolution(4.) * (1.+z)**(-3.5)/(5.**(-3.5))\n",
    "    \n",
    "    \n",
    "def flat_evolution(z):\n",
    "    return 1.\n",
    "\n",
    "\n",
    "def get_redshift_parameter(source_evolution,\n",
    "                           z_max,\n",
    "                           gamma):\n",
    "    \n",
    "    def integrand(z,gamma):\n",
    "        return source_evolution(z)*(1.+z)**(-gamma) / Hubble_evolution(z)\n",
    "    \n",
    "    return scipy.integrate.quad(integrand,0,z_max,args=(gamma))[0]\n",
    "\n",
    "\n",
    "def get_evolution(name):\n",
    "    \n",
    "    if name == \"ULIRG\":\n",
    "        return ULIRG_evolution\n",
    "    elif name == \"starforming\":\n",
    "        return starforming_evolution\n",
    "    elif name == \"flat\":\n",
    "        return flat_evolution\n",
    "    else:\n",
    "        raise Exception(\"Currently unknown evolution\")"
   ]
  },
  {
   "cell_type": "code",
   "execution_count": 3,
   "id": "15a24c30",
   "metadata": {},
   "outputs": [],
   "source": [
    "def xi(g,zm,txt):\n",
    "    return get_redshift_parameter(get_evolution(txt),zm,g)\n"
   ]
  }
 ],
 "metadata": {
  "kernelspec": {
   "display_name": "Python 3",
   "language": "python",
   "name": "python3"
  },
  "language_info": {
   "codemirror_mode": {
    "name": "ipython",
    "version": 3
   },
   "file_extension": ".py",
   "mimetype": "text/x-python",
   "name": "python",
   "nbconvert_exporter": "python",
   "pygments_lexer": "ipython3",
   "version": "3.8.8"
  }
 },
 "nbformat": 4,
 "nbformat_minor": 5
}
